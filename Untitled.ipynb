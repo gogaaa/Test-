{
 "cells": [
  {
   "cell_type": "code",
   "execution_count": 1,
   "id": "cf39532d-b1bc-4d53-959c-afb17639d8fc",
   "metadata": {},
   "outputs": [
    {
     "name": "stdout",
     "output_type": "stream",
     "text": [
      "[[ 0.33333333 -1.5         0.        ]\n",
      " [-1.5         7.          1.        ]\n",
      " [ 0.          1.          4.        ]]\n"
     ]
    }
   ],
   "source": [
    "import numpy as np\n",
    "\n",
    "# Assuming the provided centered data is correct\n",
    "centered_data = np.array([\n",
    "    [0.34, -3, 0],\n",
    "    [-0.66, 1, -2],\n",
    "    [-0.66, 2, 2]\n",
    "])\n",
    "\n",
    "# Calculate the covariance matrix\n",
    "covariance_matrix = np.cov(centered_data.T, bias=False)\n",
    "\n",
    "print(covariance_matrix)\n"
   ]
  },
  {
   "cell_type": "code",
   "execution_count": null,
   "id": "f9ba7c71-508a-437a-813c-0f219d79a27c",
   "metadata": {},
   "outputs": [],
   "source": []
  }
 ],
 "metadata": {
  "kernelspec": {
   "display_name": "Python 3 (ipykernel)",
   "language": "python",
   "name": "python3"
  },
  "language_info": {
   "codemirror_mode": {
    "name": "ipython",
    "version": 3
   },
   "file_extension": ".py",
   "mimetype": "text/x-python",
   "name": "python",
   "nbconvert_exporter": "python",
   "pygments_lexer": "ipython3",
   "version": "3.11.5"
  }
 },
 "nbformat": 4,
 "nbformat_minor": 5
}
